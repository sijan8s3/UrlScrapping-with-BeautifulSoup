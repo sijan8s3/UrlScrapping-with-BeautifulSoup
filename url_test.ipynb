import requests
from bs4 import BeautifulSoup

page = requests.get('https://philamuseum.org/collections/results.html?searchTxt=fruit&searchNameID=&searchClassID=&searchOrigin=&searchDeptID=5&keySearch2=&page=1')

soup = BeautifulSoup(page.text, 'html.parser')

# Locating the HTML tags for the hyperlinks

art = soup.find(class_='pinch')
art_objects = art.find_all('a')

for artwork in art_objects:
    
    links = artwork.get('href')
    print(links)


# Collect full links
for artwork in art_objects:
    links = 'https://philamuseum.org/collection' + artwork.get('href')
    print(links)

import csv
import requests
from bs4 import BeautifulSoup

page = requests.get('https://philamuseum.org/collections/results.html?searchTxt=fruit&searchNameID=&searchClassID=&searchOrigin=&searchDeptID=5&keySearch2=&page=1')

soup = BeautifulSoup(page.text, 'html.parser')

art = soup.find(class_='pinch')
art_objects = art.find_all('a')

for artwork in art_objects:
    links = artwork.get('href')

    
# Open a csv file to write the output in

f = csv.writer(open('pma.csv', 'w'))

for artwork in art_objects:
    links = 'https://philamuseum.org' + artwork.get('href')
    
    # Insert each iteration's output into the csv file
    f.writerow([links])